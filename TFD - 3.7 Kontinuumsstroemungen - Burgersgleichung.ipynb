{
 "cells": [
  {
   "cell_type": "markdown",
   "metadata": {},
   "source": [
    "## Konvektiver + Diffusiver Transport = Burgersgleichung"
   ]
  },
  {
   "cell_type": "markdown",
   "metadata": {},
   "source": [
    "### 1D-Burgersgleichung (Konvektion + Diffusion)\n",
    "\n",
    "Die [Burgersgleichung](https://de.wikipedia.org/wiki/Burgersgleichung) entpsricht der Navier-Stokes-Gleichung ohne Quellterme bzw. der Addition aus konvektivem und diffusiven Transport. Im eindimensionalen Fall ergibt sich also folgende Gleichung:\n",
    "\n",
    "$$\\frac{\\partial u}{\\partial t} + u \\frac{\\partial u}{\\partial x} = \\nu \\frac{\\partial ^2u}{\\partial x^2}$$\n",
    "\n",
    "Die Burgersgleichung ist nicht nur für die Strömungsmechanik relevant, sondern taucht auch in anderen physikalischen Problemen auf, wie z.B. bei der Simulation des Straßenverkehrs.\n",
    "\n",
    "Da wir die Diskretisierung der einzelnen Terme bereits durchgeführt haben, ist dieser Schritt trivial. Wir wenden wieder ein einseitiges (Vorwärts-)Differenzenverfahren für die Diskretisierung in der Zeit, ein einseitiges (Rückwärts-)Differenzenverfahren für die konvektiven Terme und ein Zentraldifferenzenverfahren für die zweiten Ableitungen der diffusiven Terme an und erhalten:\n",
    "\n",
    "$$\\frac{u_i^{n+1}-u_i^n}{\\Delta t} + u_i^n \\frac{u_i^n - u_{i-1}^n}{\\Delta x} = \\nu \\frac{u_{i+1}^n - 2u_i^n + u_{i-1}^n}{\\Delta x^2}$$\n",
    "\n",
    "Wieder können wir nach den gesuchten Geschwindigkeiten zum neuen Zeitpunkt explizit auflösen:\n",
    "\n",
    "$$u_i^{n+1} = u_i^n - u_i^n \\frac{\\Delta t}{\\Delta x} (u_i^n - u_{i-1}^n) + \\nu \\frac{\\Delta t}{\\Delta x^2}(u_{i+1}^n - 2u_i^n + u_{i-1}^n)$$"
   ]
  },
  {
   "cell_type": "markdown",
   "metadata": {},
   "source": [
    "#### Anfangs- und Randbedingungen\n",
    "\n",
    "Eigentlich könnten wir die Gleichung nun sofort in Pyton umsetzen. Da die 1D-Burgersgleichung jedoch für bestimmte Anfangs- und Randbedingungen mit Hilfe einer [Cole-Hopf-Transformation](https://de.wikipedia.org/wiki/Hopf-Cole-Transformation) (mehr was für Mathematiker) analytisch lösbar ist, wollen wir die Gelegenheit nutzen und unsere numerische Lösung mit der analyitschen Lösung vergleichen.\n",
    "\n",
    "Dazu müssen wir als Anfangsbedingung folgende Geschwindigkeitsverteilung realisieren:\n",
    "\n",
    "$$u = -\\frac{2 \\nu}{\\phi} \\frac{\\partial \\phi}{\\partial x} + 4 \\quad\\text{mit}\\\\\\\n",
    "\\phi = \\exp \\bigg(\\frac{-x^2}{4 \\nu} \\bigg) + \\exp \\bigg(\\frac{-(x-2 \\pi)^2}{4 \\nu} \\bigg)$$\n",
    "\n",
    "und periodische Randbedingungen vorsehen:\n",
    "\n",
    "$$u(0) = u(2\\pi)$$\n",
    "\n",
    "Für diesen Fall lautet die Lösung der Burgersgleichung:\n",
    "\n",
    "$$u = -\\frac{2 \\nu}{\\phi} \\frac{\\partial \\phi}{\\partial x} + 4 \\quad\\text{mit}\\\\\\\n",
    "\\phi = \\exp \\bigg(\\frac{-(x-4t)^2}{4 \\nu (t+1)} \\bigg) + \\exp \\bigg(\\frac{-(x-4t -2 \\pi)^2}{4 \\nu(t+1)} \\bigg)$$\n",
    "\n",
    "Die Anfangsbedingung entspricht also der Lösung für den Zeitpunkt $t=0$."
   ]
  },
  {
   "cell_type": "markdown",
   "metadata": {},
   "source": [
    "##### Verwendung von SymPy\n",
    "\n",
    "Um die Anfangsbedingung und die Lösung auszurechnen müssen wir die Ableitung von $\\phi$ berechnen, was eigentlich nicht weiter schwer ist. Trotzdem soll an dieser Stelle [`SymPy`](http://www.sympy.org/en/index.html) eingeführt werden, mit dem symbolische Mathematik (ähnlich Wolfram Alpha, Mathematica oder Maple) in Python möglich ist.\n",
    "\n",
    "Wir laden zunächst wieder die benötigen Bibliotheken. Neben `numpy` brauchen wir nun auch `sympy`:"
   ]
  },
  {
   "cell_type": "code",
   "execution_count": 33,
   "metadata": {
    "collapsed": true
   },
   "outputs": [],
   "source": [
    "import numpy as np\n",
    "import sympy as sp"
   ]
  },
  {
   "cell_type": "markdown",
   "metadata": {},
   "source": [
    "Wenn man mit dem Jupyter-Notebook arbeitet, kann man SymPy so konfigurieren, dass es die Formeln mithifle von $\\LaTeX$ rendert. "
   ]
  },
  {
   "cell_type": "code",
   "execution_count": 34,
   "metadata": {
    "collapsed": true
   },
   "outputs": [],
   "source": [
    "from sympy import init_printing\n",
    "init_printing(use_latex=True)"
   ]
  },
  {
   "cell_type": "markdown",
   "metadata": {},
   "source": [
    "Zunächst müssen die Variablen, die in der Gleichung für $phi$ forkommen als symbolische Variablen definiert werden. Anschließend können wir die Gleichung in SymPy zuweisen:"
   ]
  },
  {
   "cell_type": "code",
   "execution_count": 35,
   "metadata": {},
   "outputs": [
    {
     "data": {
      "image/png": "[encoded data removed]",
      "text/latex": [
       "$$e^{- \\frac{\\left(- 4 t + x - 6.28318530717959\\right)^{2}}{4 \\nu \\left(t + 1\\right)}} + e^{- \\frac{\\left(- 4 t + x\\right)^{2}}{4 \\nu \\left(t + 1\\right)}}$$"
      ],
      "text/plain": [
       "                               2                2 \n",
       " -(-4⋅t + x - 6.28318530717959)      -(-4⋅t + x)  \n",
       " ────────────────────────────────    ─────────────\n",
       "           4⋅ν⋅(t + 1)                4⋅ν⋅(t + 1) \n",
       "ℯ                                 + ℯ             "
      ]
     },
     "execution_count": 35,
     "metadata": {},
     "output_type": "execute_result"
    }
   ],
   "source": [
    "x, nu, t = sp.symbols('x nu t')\n",
    "phi = (sp.exp(-(x - 4 * t)**2 / (4 * nu * (t + 1))) +\n",
    "       sp.exp(-(x - 4 * t - 2 * np.pi)**2 / (4 * nu * (t + 1))))\n",
    "phi"
   ]
  },
  {
   "cell_type": "markdown",
   "metadata": {},
   "source": [
    "Damit ist es nun ganz einfach, die Ableitung von $phi$ nach dem Ort zu bilden:"
   ]
  },
  {
   "cell_type": "code",
   "execution_count": 36,
   "metadata": {},
   "outputs": [
    {
     "data": {
      "image/png": "[encoded data removed]",
      "text/latex": [
       "$$- \\frac{e^{- \\frac{\\left(- 4 t + x\\right)^{2}}{4 \\nu \\left(t + 1\\right)}}}{4 \\nu \\left(t + 1\\right)} \\left(- 8 t + 2 x\\right) - \\frac{1}{4 \\nu \\left(t + 1\\right)} \\left(- 8 t + 2 x - 12.5663706143592\\right) e^{- \\frac{\\left(- 4 t + x - 6.28318530717959\\right)^{2}}{4 \\nu \\left(t + 1\\right)}}$$"
      ],
      "text/plain": [
       "                           2                                                  \n",
       "                -(-4⋅t + x)                                      -(-4⋅t + x - \n",
       "                ─────────────                                    ─────────────\n",
       "                 4⋅ν⋅(t + 1)                                               4⋅ν\n",
       "  (-8⋅t + 2⋅x)⋅ℯ                (-8⋅t + 2⋅x - 12.5663706143592)⋅ℯ             \n",
       "- ─────────────────────────── - ──────────────────────────────────────────────\n",
       "          4⋅ν⋅(t + 1)                                      4⋅ν⋅(t + 1)        \n",
       "\n",
       "                 2 \n",
       "6.28318530717959)  \n",
       "───────────────────\n",
       "⋅(t + 1)           \n",
       "                   \n",
       "───────────────────\n",
       "                   "
      ]
     },
     "execution_count": 36,
     "metadata": {},
     "output_type": "execute_result"
    }
   ],
   "source": [
    "dphidx = phi.diff(x)\n",
    "dphidx"
   ]
  },
  {
   "cell_type": "markdown",
   "metadata": {},
   "source": [
    "Um die nicht-gerenderte version der Funktion zu bekommen, kann man diese einfach mit dem `print`-Befehl ausgeben:"
   ]
  },
  {
   "cell_type": "code",
   "execution_count": 37,
   "metadata": {},
   "outputs": [
    {
     "name": "stdout",
     "output_type": "stream",
     "text": [
      "-(-8*t + 2*x)*exp(-(-4*t + x)**2/(4*nu*(t + 1)))/(4*nu*(t + 1)) - (-8*t + 2*x - 12.5663706143592)*exp(-(-4*t + x - 6.28318530717959)**2/(4*nu*(t + 1)))/(4*nu*(t + 1))\n"
     ]
    }
   ],
   "source": [
    "print (dphidx)"
   ]
  },
  {
   "cell_type": "markdown",
   "metadata": {},
   "source": [
    "Die Funktion ist in dieser Form allerdings noch nicht in Python aufrufbar. Wir könnten diese z.B. abtippen und in eine Python-Funktion umsetzen (mit `def`...).\n",
    "\n",
    "Eleganter ist es, die `lambdify`-Funktion von SymPy zu nutzen, die genau das für uns macht, ohne dass wit etwas abtippen müssen:"
   ]
  },
  {
   "cell_type": "code",
   "execution_count": 38,
   "metadata": {},
   "outputs": [
    {
     "name": "stdout",
     "output_type": "stream",
     "text": [
      "3.4917066420644494\n"
     ]
    }
   ],
   "source": [
    "from sympy.utilities.lambdify import lambdify\n",
    "\n",
    "# Der Ausdruck für u:\n",
    "u_sym = -2 * nu * (dphidx / phi) + 4\n",
    "\n",
    "# Und die daraus automatisch erzeugte Python-Funktion u\n",
    "u_analytisch = lambdify((t, x, nu), u_sym)\n",
    "print(u_analytisch(1, 4, 3))"
   ]
  },
  {
   "cell_type": "markdown",
   "metadata": {},
   "source": [
    "Damit haben wir sowohl eine Funktion, mit der wir die Anfangsbedingung zum Zeitpunkt $t=0$ als auch die Lösung zu jedem beliebigen Zeitpunkt berechnen können.\n",
    "\n",
    "Jetzt geht es an die Lösung der Burgersgleichung:"
   ]
  },
  {
   "cell_type": "code",
   "execution_count": 107,
   "metadata": {
    "collapsed": true
   },
   "outputs": [],
   "source": [
    "import matplotlib.pyplot as plt\n",
    "%matplotlib inline\n",
    "\n",
    "# benötigte Variablen\n",
    "L  = 2 * np.pi      # Länge unseres Rechengebiets\n",
    "nx = 101            # Anzahl der diskreten Punkte\n",
    "dx = L / (nx-1)     # Abstand zwischen den Punkten\n",
    "t_end = 0.44        # Endzeitpunkt für die Berechnung\n",
    "nu  = 0.07          # die kinematische Viskosität in m^2/s\n",
    "CFL = 0.5\n",
    "dt = CFL * dx * nu  # Zeitschrittweite\n",
    "\n",
    "# Anfangsbedingung \n",
    "xi = np.linspace(0, L, nx)\n",
    "u_init = np.asarray([u_analytisch(0, x, nu) for x in xi])\n",
    "\n",
    "u_alt = u_init.copy()  # wir übernehmen zunächst einmal die Anfangsbedingung\n",
    "u_neu = u_alt.copy()\n",
    "t = 0                  # der Anfangszeitpunkt ist 0"
   ]
  },
  {
   "cell_type": "code",
   "execution_count": 108,
   "metadata": {},
   "outputs": [
    {
     "data": {
      "image/png": "[encoded data removed]",
      "text/plain": [
       "<matplotlib.figure.Figure at 0x110403b38>"
      ]
     },
     "metadata": {},
     "output_type": "display_data"
    }
   ],
   "source": [
    "plt.figure(figsize=(8, 4))\n",
    "plt.plot(xi, u_init, marker='o', lw=2)\n",
    "plt.xlim([0, L])\n",
    "plt.ylim([0, 8]);"
   ]
  },
  {
   "cell_type": "markdown",
   "metadata": {},
   "source": [
    "Die Anfangsverteilung ist nun eher eine Diskontinuität. Deutlich wird auch, dass diese periodisch verläuft, d.h. der Wert am Ende unseres Rechengebiets bei $x=2\\pi$ entspricht dem Wert bei $x=0$."
   ]
  },
  {
   "cell_type": "markdown",
   "metadata": {},
   "source": [
    "#### Periodische Randbedingungen\n",
    "\n",
    "Neu im Gegensatz zu den bisherigen Berechnungen ist die Verwendung von periodischen Randbedingungen. D.h. alles was aus dem rechten Rand hinausströmt muss am linken Rand wieder hineinströmen.\n",
    "\n",
    "Betrachten wir die diskretisierte Burgersgleichung:\n",
    "\n",
    "$$u_i^{n+1} = u_i^n - u_i^n \\frac{\\Delta t}{\\Delta x} (u_i^n - u_{i-1}^n) + \\nu \\frac{\\Delta t}{\\Delta x^2}(u_{i+1}^n - 2u_i^n + u_{i-1}^n)$$\n",
    "\n",
    "Was müssen wir für $u_{i+1}^n$ verwenden, wenn $i$ bereits am rechten Rand des Gebietes ist und was für $u_{i-1}^n$, wenn $i = 0$ ist?"
   ]
  },
  {
   "cell_type": "code",
   "execution_count": 109,
   "metadata": {},
   "outputs": [],
   "source": [
    "while t <= t_end:      # Schleife, solange bis Endzeitpunkt erreicht ist\n",
    "    # dieses Mal mit innerer Schleife zum besseren Verständnis\n",
    "    # ginge aber auch wieder direkt mit der zuvor eingeführten\n",
    "    # Schreibweise\n",
    "    for i in range(1, nx-1):\n",
    "        u_neu[i] = (u_alt[i] \n",
    "                    - u_alt[i] * dt / dx *(u_alt[i] - u_alt[i-1]) \n",
    "                    + nu * dt / dx**2 \n",
    "                    * (u_alt[i+1] - 2 * u_alt[i] + u_alt[i-1]))\n",
    "    # periodische Randbedingungen:\n",
    "    u_neu[0] = (u_alt[0] \n",
    "                - u_alt[0] * dt / dx * (u_alt[0] - u_alt[-2]) \n",
    "                + nu * dt / dx**2 \n",
    "                * (u_alt[1] - 2 * u_alt[0] + u_alt[-2]))\n",
    "    u_neu[-1] = (u_alt[-1] \n",
    "                 - u_alt[-1] * dt / dx * (u_alt[-1] - u_alt[-2]) \n",
    "                 + nu * dt / dx**2\n",
    "                 * (u_alt[0]- 2 * u_alt[-1] + u_alt[-2]))\n",
    "    u_alt = u_neu.copy()\n",
    "    t += dt   "
   ]
  },
  {
   "cell_type": "code",
   "execution_count": 110,
   "metadata": {
    "collapsed": true
   },
   "outputs": [],
   "source": [
    "u_analytisch_t_end = np.asarray([u_analytisch(t_end, x, nu) for x in xi])"
   ]
  },
  {
   "cell_type": "code",
   "execution_count": 111,
   "metadata": {},
   "outputs": [
    {
     "data": {
      "image/png": "[encoded data removed]",
      "text/plain": [
       "<matplotlib.figure.Figure at 0x110f53860>"
      ]
     },
     "metadata": {},
     "output_type": "display_data"
    }
   ],
   "source": [
    "plt.figure(figsize=(8, 4))\n",
    "plt.plot(xi, u_neu, marker='o', lw=2, label='FDM')\n",
    "plt.plot(xi, u_analytisch_t_end, label='analytisch')\n",
    "plt.xlim([0, L])\n",
    "plt.ylim([0, 8])\n",
    "plt.legend();"
   ]
  },
  {
   "cell_type": "markdown",
   "metadata": {},
   "source": [
    "Experimentieren Sie ein wenig mit der Diskretisierung. Welche Auflösung benötigen wir, um die analytische Lösung genau zu treffen?"
   ]
  },
  {
   "cell_type": "markdown",
   "metadata": {},
   "source": [
    "Wir sind jetzt schon sehr nahe an der Lösung der kompletten Navier-Stokes-Gleichung. Die 2D-Burgersgleichung sparen wir uns, da sie keine neuen Erkenntnisse bringt.\n",
    "\n",
    "Im nächsten Notebook nehmen wir uns dafür die [2D-Poisson-Gleichung](TFD - 3.8 Kontinuumsstroemungen - Poisson.ipynb) vor, die wir zuvor bereits eingeführt haben."
   ]
  },
  {
   "cell_type": "markdown",
   "metadata": {},
   "source": [
    "\n",
    "---\n",
    "Dieses Notebook folgt einer Idee von Lorena A. Barba und deren exzellenter Ausarbeitung in Python ([\"12 Steps to Navier Stokes\"](http://lorenabarba.com/blog/cfd-python-12-steps-to-navier-stokes/)).\n",
    "\n",
    "Der folgende Python-Code darf ignoriert werden. Er dient nur dazu, die richtige Formatvorlage für die Jupyter-Notebooks zu laden."
   ]
  },
  {
   "cell_type": "code",
   "execution_count": 41,
   "metadata": {},
   "outputs": [
    {
     "data": {
      "text/html": [
       "<link href='http://fonts.googleapis.com/css?family=Fenix' rel='stylesheet' type='text/css'>\n",
       "<link href='http://fonts.googleapis.com/css?family=Alegreya+Sans:100,300,400,500,700,800,900,100italic,300italic,400italic,500italic,700italic,800italic,900italic' rel='stylesheet' type='text/css'>\n",
       "<link href='http://fonts.googleapis.com/css?family=Source+Code+Pro:300,400' rel='stylesheet' type='text/css'>\n",
       "<style>\n",
       "\n",
       "@font-face {\n",
       "    font-family: \"Computer Modern\";\n",
       "    src: url('http://mirrors.ctan.org/fonts/cm-unicode/fonts/otf/cmunss.otf');\n",
       "}\n",
       "\n",
       "\n",
       "#notebook_panel { /* main background */\n",
       "    background: rgb(245,245,245);\n",
       "}\n",
       "\n",
       "div.cell { /* set cell width */\n",
       "    width: 750px;\n",
       "}\n",
       "\n",
       "div #notebook { /* centre the content */\n",
       "    background: #fff; /* white background for content */\n",
       "    width: 1000px;\n",
       "    margin: auto;\n",
       "    padding-left: 0em;\n",
       "}\n",
       "\n",
       "#notebook li { /* More space between bullet points */\n",
       "margin-top:0.8em;\n",
       "}\n",
       "\n",
       "/* draw border around running cells */\n",
       "div.cell.border-box-sizing.code_cell.running { \n",
       "    border: 1px solid #111;\n",
       "}\n",
       "\n",
       "/* Put a solid color box around each cell and its output, visually linking them*/\n",
       "div.cell.code_cell {\n",
       "    background-color: rgb(256,256,256); \n",
       "    border-radius: 0px; \n",
       "    padding: 0.5em;\n",
       "    margin-left:1em;\n",
       "    margin-top: 1em;\n",
       "}\n",
       "\n",
       "\n",
       "div.text_cell_render{\n",
       "    font-family: 'Alegreya Sans' sans-serif;\n",
       "    line-height: 140%;\n",
       "    font-size: 120%;\n",
       "    font-weight: 400;\n",
       "    width:650px;\n",
       "    margin-left:auto;\n",
       "    margin-right:auto;\n",
       "}\n",
       "\n",
       "/* Formatting for header cells */\n",
       ".text_cell_render h1 {\n",
       "    font-family: 'Alegreya Sans', sans-serif;\n",
       "    font-style:regular;\n",
       "    font-weight: 300;\n",
       "    font-size: 30pt;\n",
       "    line-height: 100%;\n",
       "    color:#CD2305;\n",
       "    margin-bottom: 0.5em;\n",
       "    margin-top: 0.5em;\n",
       "    display: block;\n",
       "}\n",
       ".text_cell_render h2 {\n",
       "    font-family: 'Alegreya Sans', sans-serif;\n",
       "    font-style:regular;\n",
       "    font-weight: 300;\n",
       "    font-size: 30pt;\n",
       "    line-height: 100%;\n",
       "    color:#CD2305;\n",
       "    margin-bottom: 0.5em;\n",
       "    margin-top: 0.5em;\n",
       "    display: block;\n",
       "}\t\n",
       ".text_cell_render h3 {\n",
       "    font-family: 'Alegreya Sans', sans-serif;\n",
       "    font-weight: 300;\n",
       "    font-size: 24pt;\n",
       "    line-height: 100%;\n",
       "    color:#CD2305;\n",
       "    margin-bottom: 0.1em;\n",
       "    margin-top: 0.3em;\n",
       "    display: block;\n",
       "}\t\n",
       "\n",
       ".text_cell_render h4 {\n",
       "    font-family: 'Alegreya Sans', sans-serif;\n",
       "    font-weight: 300;\n",
       "    margin-top:12px;\n",
       "\tfont-size: 20pt;\n",
       "    color:#CD2305;\n",
       "    margin-bottom: 3px;\n",
       "    font-style: regular;\n",
       "}\n",
       "\n",
       ".text_cell_render h5 {\n",
       "    font-family: 'Alegreya Sans', sans-serif;\n",
       "    font-weight: 300;\n",
       "    font-size: 16pt;\n",
       "    margin-top: 12px;\n",
       "    color:#CD2305;\n",
       "    margin-bottom: 3px;\n",
       "    font-style: regular;\n",
       "}\n",
       "\n",
       ".text_cell_render h6 {  /*Use this for small titles*/\n",
       "    font-family: 'Alegreya Sans', sans-serif;\n",
       "    font-weight: 300;\n",
       "    font-size: 16pt;\n",
       "    color: #CD2305;\n",
       "    font-style: italic;\n",
       "    margin-bottom: .5em;\n",
       "    margin-top: 0.5em;\n",
       "    display: block;\n",
       "}\n",
       "\n",
       ".text_cell_render h7 { /*use this for copyright note*/\n",
       "    font-family: 'Source Code Pro', sans-serif;\n",
       "    font-weight: 300;\n",
       "    font-size: 9pt;\n",
       "    line-height: 100%;\n",
       "    color: grey;\n",
       "    margin-bottom: 1px;\n",
       "    margin-top: 1px;\n",
       "}\n",
       "\n",
       "    .CodeMirror{\n",
       "            font-family: \"Source Code Pro\";\n",
       "\t\t\tfont-size: 90%;\n",
       "    }\n",
       "/*    .prompt{\n",
       "        display: None;\n",
       "    }*/\n",
       "\t\n",
       "    \n",
       "    .warning{\n",
       "        color: rgb( 240, 20, 20 )\n",
       "        }\n",
       "\n",
       "    div.highlight {\n",
       "        background-color: #fcf2f2;\n",
       "        border-color: #dFb5b4;\n",
       "        /*border-left: 5px solid #dfb5b4;*/\n",
       "        padding-top: 0.5em;\n",
       "        padding-bottom: 0.5em\n",
       "    }\n",
       "\n",
       "</style>\n",
       "/*\n",
       "<script>\n",
       "    MathJax.Hub.Config({\n",
       "                        TeX: {\n",
       "                           extensions: [\"AMSmath.js\"], \n",
       "                           equationNumbers: { autoNumber: \"AMS\", useLabelIds: true}\n",
       "                           },\n",
       "                tex2jax: {\n",
       "                    inlineMath: [ ['$','$'], [\"\\\\(\",\"\\\\)\"] ],\n",
       "                    displayMath: [ ['$$','$$'], [\"\\\\[\",\"\\\\]\"] ]\n",
       "                },\n",
       "                displayAlign: 'center', // Change this to 'center' to center equations.\n",
       "                \"HTML-CSS\": {\n",
       "                    styles: {'.MathJax_Display': {\"margin\": 4}}\n",
       "                }\n",
       "        });\n",
       "</script>\n",
       " */\n"
      ],
      "text/plain": [
       "<IPython.core.display.HTML object>"
      ]
     },
     "execution_count": 41,
     "metadata": {},
     "output_type": "execute_result"
    }
   ],
   "source": [
    "from IPython.core.display import HTML\n",
    "def css_styling():\n",
    "    styles = open('TFDStyle.css', 'r').read()\n",
    "    return HTML(styles)\n",
    "css_styling()"
   ]
  }
 ],
 "metadata": {
  "kernelspec": {
   "display_name": "Python [default]",
   "language": "python",
   "name": "python3"
  },
  "language_info": {
   "codemirror_mode": {
    "name": "ipython",
    "version": 3
   },
   "file_extension": ".py",
   "mimetype": "text/x-python",
   "name": "python",
   "nbconvert_exporter": "python",
   "pygments_lexer": "ipython3",
   "version": "3.5.2"
  }
 },
 "nbformat": 4,
 "nbformat_minor": 2
}
